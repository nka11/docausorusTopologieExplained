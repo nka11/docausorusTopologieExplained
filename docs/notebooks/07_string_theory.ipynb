{
 "cells": [
  {
   "cell_type": "markdown",
   "metadata": {},
   "source": [
    "# Notebook 7 : Théorie des Cordes et Calabi-Yau\n",
    "\n",
    "**Auteur** : Manus AI\n",
    "**Date** : 12 Octobre 2025\n",
    "\n",
    "## Contenu\n",
    "1. Visualisation de Variétés de Calabi-Yau\n",
    "2. Compactification des Dimensions\n",
    "3. Dualités (T-dualité, S-dualité)\n",
    "4. Connexion avec la Physique des Particules"
   ]
  },
  {
   "cell_type": "code",
   "execution_count": null,
   "metadata": {},
   "outputs": [],
   "source": [
    "!pip install numpy matplotlib plotly sympy -q\n",
    "\n",
    "import numpy as np\n",
    "import plotly.graph_objects as go\n",
    "\n",
    "# Visualiser une projection 3D d'une variété de Calabi-Yau (Quintic)\n",
    "u = np.linspace(0, 2*np.pi, 50)\n",
    "v = np.linspace(0, np.pi, 50)\n",
    "U, V = np.meshgrid(u, v)\n",
    "\n",
    "# Paramétrisation simplifiée (projection)\n",
    "X = (2 + np.cos(3*U)) * np.sin(V) * np.cos(U)\n",
    "Y = (2 + np.cos(3*U)) * np.sin(V) * np.sin(U)\n",
    "Z = (2 + np.cos(3*U)) * np.cos(V) + np.sin(5*V)\n",
    "\n",
    "fig = go.Figure(data=[go.Surface(x=X, y=Y, z=Z, colorscale='Viridis')])\n",
    "\n",
    "fig.update_layout(\n",
    "    title='Projection 3D d\\'une Variété de Calabi-Yau',\n",
    "    scene=dict(xaxis_title='X', yaxis_title='Y', zaxis_title='Z', aspectmode='cube'),\n",
    "    width=800, height=800\n",
    ")\n",
    "\n",
    "fig.show()\n",
    "\n",
    "print('Les variétés de Calabi-Yau sont des espaces complexes à 6 dimensions réelles.')\n",
    "print('Elles sont Ricci-plates et préservent la supersymétrie.')\n",
    "print('Leur topologie détermine les particules et forces de notre univers 4D.')"
   ]
  }
 ],
 "metadata": {
  "kernelspec": {
   "display_name": "Python 3",
   "language": "python",
   "name": "python3"
  }
 },
 "nbformat": 4,
 "nbformat_minor": 4
}
