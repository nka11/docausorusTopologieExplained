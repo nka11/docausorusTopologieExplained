{
 "cells": [
  {
   "cell_type": "markdown",
   "metadata": {},
   "source": [
    "# Notebook 5 : Topological Data Analysis et Homologie Persistante\n",
    "\n",
    "**Auteur** : Manus AI\n",
    "**Date** : 12 Octobre 2025\n",
    "\n",
    "## Contenu\n",
    "1. Complexes Simpliciaux\n",
    "2. Homologie Persistante\n",
    "3. Diagrammes de Persistance\n",
    "4. Applications aux Données Réelles"
   ]
  },
  {
   "cell_type": "code",
   "execution_count": null,
   "metadata": {},
   "outputs": [],
   "source": [
    "!pip install numpy matplotlib plotly scikit-learn ripser persim -q\n",
    "\n",
    "import numpy as np\n",
    "import matplotlib.pyplot as plt\n",
    "from ripser import ripser\n",
    "from persim import plot_diagrams\n",
    "from sklearn.datasets import make_circles\n",
    "\n",
    "# Générer des données en forme de cercle\n",
    "X, _ = make_circles(n_samples=100, noise=0.05, factor=0.3)\n",
    "\n",
    "# Calculer l'homologie persistante\n",
    "result = ripser(X, maxdim=1)\n",
    "diagrams = result['dgms']\n",
    "\n",
    "# Visualiser\n",
    "fig, (ax1, ax2) = plt.subplots(1, 2, figsize=(14, 5))\n",
    "\n",
    "ax1.scatter(X[:, 0], X[:, 1], alpha=0.6)\n",
    "ax1.set_title('Données (Cercles Concentriques)')\n",
    "ax1.set_aspect('equal')\n",
    "\n",
    "plot_diagrams(diagrams, ax=ax2)\n",
    "ax2.set_title('Diagramme de Persistance')\n",
    "\n",
    "plt.tight_layout()\n",
    "plt.show()\n",
    "\n",
    "print('Homologie H0 (composantes connexes):', len(diagrams[0]))\n",
    "print('Homologie H1 (trous/boucles):', len(diagrams[1]))"
   ]
  }
 ],
 "metadata": {
  "kernelspec": {
   "display_name": "Python 3",
   "language": "python",
   "name": "python3"
  }
 },
 "nbformat": 4,
 "nbformat_minor": 4
}
