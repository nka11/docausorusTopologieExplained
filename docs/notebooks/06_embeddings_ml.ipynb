{
 "cells": [
  {
   "cell_type": "markdown",
   "metadata": {},
   "source": [
    "# Notebook 6 : Embeddings et Manifold Learning\n",
    "\n",
    "**Auteur** : Manus AI\n",
    "**Date** : 12 Octobre 2025\n",
    "\n",
    "## Contenu\n",
    "1. PCA vs t-SNE vs UMAP\n",
    "2. Word Embeddings (Word2Vec)\n",
    "3. Graph Embeddings (Node2Vec)\n",
    "4. Applications en Deep Learning"
   ]
  },
  {
   "cell_type": "code",
   "execution_count": null,
   "metadata": {},
   "outputs": [],
   "source": [
    "!pip install numpy matplotlib plotly scikit-learn umap-learn -q\n",
    "\n",
    "import numpy as np\n",
    "import matplotlib.pyplot as plt\n",
    "from sklearn.datasets import load_digits\n",
    "from sklearn.decomposition import PCA\n",
    "from sklearn.manifold import TSNE\n",
    "import umap\n",
    "\n",
    "# Charger les données\n",
    "digits = load_digits()\n",
    "X, y = digits.data, digits.target\n",
    "\n",
    "# Appliquer différentes méthodes\n",
    "pca = PCA(n_components=2)\n",
    "X_pca = pca.fit_transform(X)\n",
    "\n",
    "tsne = TSNE(n_components=2, random_state=42)\n",
    "X_tsne = tsne.fit_transform(X)\n",
    "\n",
    "reducer = umap.UMAP(random_state=42)\n",
    "X_umap = reducer.fit_transform(X)\n",
    "\n",
    "# Visualiser\n",
    "fig, axes = plt.subplots(1, 3, figsize=(18, 5))\n",
    "\n",
    "for ax, X_embedded, title in zip(axes, [X_pca, X_tsne, X_umap], ['PCA', 't-SNE', 'UMAP']):\n",
    "    scatter = ax.scatter(X_embedded[:, 0], X_embedded[:, 1], c=y, cmap='tab10', alpha=0.6)\n",
    "    ax.set_title(f'{title}', fontsize=14)\n",
    "    ax.set_xlabel('Dimension 1')\n",
    "    ax.set_ylabel('Dimension 2')\n",
    "\n",
    "plt.colorbar(scatter, ax=axes, label='Chiffre')\n",
    "plt.tight_layout()\n",
    "plt.show()\n",
    "\n",
    "print('PCA: Méthode linéaire, préserve la variance globale')\n",
    "print('t-SNE: Méthode non-linéaire, préserve les voisinages locaux')\n",
    "print('UMAP: Méthode non-linéaire, préserve structure locale ET globale')"
   ]
  }
 ],
 "metadata": {
  "kernelspec": {
   "display_name": "Python 3",
   "language": "python",
   "name": "python3"
  }
 },
 "nbformat": 4,
 "nbformat_minor": 4
}
